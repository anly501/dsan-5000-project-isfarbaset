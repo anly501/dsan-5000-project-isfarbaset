{
 "cells": [
  {
   "cell_type": "markdown",
   "metadata": {},
   "source": [
    "# 5100 Semester Project"
   ]
  },
  {
   "cell_type": "markdown",
   "metadata": {},
   "source": [
    "![Alt text](<Screenshot 2023-11-30 at 7.08.26 PM.png>)![Alt text](<Screenshot 2023-11-30 at 7.17.19 PM-1.png>) ![Alt text](<Screenshot 2023-11-30 at 7.17.36 PM.png>) ![Alt text](<Screenshot 2023-11-30 at 7.17.38 PM.png>) ![Alt text](<Screenshot 2023-11-30 at 7.17.41 PM.png>) ![Alt text](<Screenshot 2023-11-30 at 7.17.58 PM.png>) ![Alt text](<Screenshot 2023-11-30 at 7.18.01 PM.png>) ![Alt text](<Screenshot 2023-11-30 at 7.18.03 PM.png>) ![Alt text](<Screenshot 2023-11-30 at 7.18.05 PM.png>) ![Alt text](<Screenshot 2023-11-30 at 7.18.08 PM.png>) ![Alt text](<Screenshot 2023-11-30 at 7.18.11 PM.png>) ![Alt text](<Screenshot 2023-11-30 at 7.18.14 PM.png>) ![Alt text](<Screenshot 2023-11-30 at 7.18.17 PM.png>) ![Alt text](<Screenshot 2023-11-30 at 7.18.20 PM.png>) ![Alt text](<Screenshot 2023-11-30 at 7.18.23 PM.png>) ![Alt text](<Screenshot 2023-11-30 at 7.18.25 PM.png>) ![Alt text](<Screenshot 2023-11-30 at 7.18.27 PM.png>) ![Alt text](<Screenshot 2023-11-30 at 7.18.29 PM.png>) ![Alt text](<Screenshot 2023-11-30 at 7.18.31 PM.png>) ![Alt text](<Screenshot 2023-11-30 at 7.18.33 PM.png>) ![Alt text](<Screenshot 2023-11-30 at 7.18.36 PM.png>) ![Alt text](<Screenshot 2023-11-30 at 7.18.38 PM.png>) ![Alt text](<Screenshot 2023-11-30 at 7.18.40 PM.png>) ![Alt text](<Screenshot 2023-11-30 at 7.18.42 PM.png>) ![Alt text](<Screenshot 2023-11-30 at 7.18.44 PM.png>) ![Alt text](<Screenshot 2023-11-30 at 7.18.46 PM.png>) ![Alt text](<Screenshot 2023-11-30 at 7.18.48 PM.png>) ![Alt text](<Screenshot 2023-11-30 at 7.18.50 PM.png>) ![Alt text](<Screenshot 2023-11-30 at 7.18.52 PM.png>) ![Alt text](<Screenshot 2023-11-30 at 7.18.55 PM.png>) ![Alt text](<Screenshot 2023-11-30 at 7.18.57 PM.png>) ![Alt text](<Screenshot 2023-11-30 at 7.18.59 PM.png>) ![Alt text](<Screenshot 2023-11-30 at 7.19.01 PM.png>) ![Alt text](<Screenshot 2023-11-30 at 7.19.03 PM.png>) ![Alt text](<Screenshot 2023-11-30 at 7.19.06 PM.png>) ![Alt text](<Screenshot 2023-11-30 at 7.19.09 PM.png>)"
   ]
  }
 ],
 "metadata": {
  "language_info": {
   "name": "python"
  },
  "orig_nbformat": 4
 },
 "nbformat": 4,
 "nbformat_minor": 2
}
