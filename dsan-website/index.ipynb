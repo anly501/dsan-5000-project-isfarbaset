{
  "cells": [
    {
      "cell_type": "raw",
      "metadata": {},
      "source": [
        "---\n",
        "title: \"Isfar Baset\"\n",
        "image: isfar.png\n",
        "about:\n",
        "  template: jolla\n",
        "  image-width: 30em\n",
        "  image-shape: round\n",
        "  links:\n",
        "    - icon: linkedin\n",
        "      text: LinkedIn\n",
        "      href: https://www.linkedin.com/in/isfarbaset/\n",
        "    - icon: github\n",
        "      text: Github\n",
        "      href: https://github.com/isfarbaset\n",
        "---"
      ]
    },
    {
      "cell_type": "markdown",
      "metadata": {},
      "source": [
        "<style>\n",
        "  body {\n",
        "  background-image: url(\"https://img.freepik.com/premium-photo/scientific-molecule-background-with-flow-waves-medicine-science-technology-chemistry-wallpaper-o_230610-906.jpg?w=2000\");\n",
        "  background-size: cover;\n",
        "  background-repeat: no-repeat;\n",
        "}\n",
        "  \n",
        "</style>\n",
        "\n",
        "GU netID: iib2\n",
        "\n",
        "Hello! I’m originally from Dhaka, the vibrant capital city of Bangladesh. I came to the US in 2015 in pursuit of my bachelor's degree in Computer Science and lived in West Michigan before moving to Northern Virginia in 2022. Before joining Georgetown, I worked as a Computer Engineer, and a Data Analyst. \n",
        "\n",
        "A relentless learner, I am currently pursuing a Master's of Science in Data Science and Analytics at Georgetown University. As I progress in my career, my passion lies in leveraging tailored data and algorithms to solve intricate business problems and communicating complex insights to non-technical stakeholders.\n",
        "\n",
        "I love spending time in charming cafes and exploring new cuisines. During my downtime I enjoy reading, painting and watching movies/TV shows. \n",
        "\n",
        "## Education\n",
        "\n",
        "Masters of Science in Data Science and Analytics <br>\n",
        "Georgetown University, Washington, D.C. | 2023 - 2025\n",
        "\n",
        "Bachelors of Science in Computer Science <br>\n",
        "Grand Valley State University, Grand Rapids, MI | 2015 - 2020\n",
        "new line\n",
        "\n",
        "## Experience\n",
        "\n",
        "Data Analyst <br>\n",
        "Shift Digital, Birmingham, MI | 2021 - 2022\n",
        "\n",
        "Computer Engineer <br>\n",
        "Array of Engineers, Grand Rapids, MI | 2020 - 2021\n",
        "\n",
        ":::\n",
        "\n",
        "background image credit: <a href=\"https://img.freepik.com/premium-photo/scientific-molecule-background-with-flow-waves-medicine-science-technology-chemistry-wallpaper-o_230610-906.jpg?w=2000\">Freepik</a>"
      ]
    }
  ],
  "metadata": {
    "kernelspec": {
      "display_name": "Python 3 (ipykernel)",
      "language": "python",
      "name": "python3"
    }
  },
  "nbformat": 4,
  "nbformat_minor": 4
}
