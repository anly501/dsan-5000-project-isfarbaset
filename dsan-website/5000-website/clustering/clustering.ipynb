{
  "cells": [
    {
      "cell_type": "markdown",
      "metadata": {},
      "source": [
        "# Clustering"
      ]
    },
    {
      "cell_type": "markdown",
      "metadata": {},
      "source": [
        "## Introduction"
      ]
    },
    {
      "cell_type": "markdown",
      "metadata": {},
      "source": [
        "Provided brief summary (1 to 2 paragraphs) about your feature data \n",
        ", and what you are trying to achieve with your clustering analysis."
      ]
    },
    {
      "cell_type": "markdown",
      "metadata": {},
      "source": [
        "## Theory"
      ]
    },
    {
      "cell_type": "markdown",
      "metadata": {},
      "source": [
        "Write a brief technical write up about how EACH clustering method works (KMEAN, DBSAN, hierarchical clustering). Also include details on model selection methods that you use (elbow, silhouette, etc).\n",
        "Don’t go “too deep”, around 2 to 4 paragraphs, per method, is fine. Write it in a way that a boss with a non-technical background would understand. Describe the method from a “big picture” point of view, how it works and what it is supposed to do.\n",
        "Do this “in your own words”. "
      ]
    },
    {
      "cell_type": "markdown",
      "metadata": {},
      "source": [
        "### KMEAN"
      ]
    },
    {
      "cell_type": "markdown",
      "metadata": {},
      "source": [
        "### DBSCAN"
      ]
    },
    {
      "cell_type": "markdown",
      "metadata": {},
      "source": [
        "### Hierchical Clustering"
      ]
    },
    {
      "cell_type": "markdown",
      "metadata": {},
      "source": [
        "## Methods"
      ]
    },
    {
      "cell_type": "markdown",
      "metadata": {},
      "source": [
        "In this section, describe your coding workflow;\n",
        "If you are not using Quarto, then provide links to the relevant code in this section.\n",
        "If you are using Quarto (recommended), then include your code in-line using the “code folding” option, so that users can toggle the code on/off as needed. The notebook should also be hosted on Github. You can always do the entire thing in .ipynb then render it to HTML using Quarto at the end."
      ]
    },
    {
      "cell_type": "markdown",
      "metadata": {},
      "source": [
        "### Data Selection"
      ]
    },
    {
      "cell_type": "markdown",
      "metadata": {},
      "source": [
        "If you have not done so already, create either a numeric record feature dataset \n",
        " AND/OR a text feature dataset \n",
        " from your existing data.\n",
        "Remove the labels (targets) \n",
        " as needed so that it is suitable for clustering.\n",
        "If you have labels, you can use them at the end, to check if the clustering predictions coincided with the existing labels in the data-set. In general this may or may-not be true.\n",
        "But these labels should not be used as part of the clustering analysis."
      ]
    },
    {
      "cell_type": "markdown",
      "metadata": {},
      "source": [
        "### Feature Selection"
      ]
    },
    {
      "cell_type": "markdown",
      "metadata": {},
      "source": [
        "(optional)\n",
        "If you want, you can perform filter based feature selection on your data-set \n",
        " as a pre-processing step before clustering\n",
        "You can also use optimal feature sets obtained during previous assignments\n"
      ]
    },
    {
      "cell_type": "markdown",
      "metadata": {},
      "source": [
        "### Hyper-parameter tuning"
      ]
    },
    {
      "cell_type": "markdown",
      "metadata": {},
      "source": [
        "For each of the three clustering algorithms, perform any relevant parameter tuning in an attempt to achieve the optimal clustering results\n",
        "e.g. For k-means, Use Elbow and Silhouette methods to illustrate the ideal number of clusters. Visualize your results.\n",
        "Also, when relevant, explore different choices of distance metric for the algorithm. Which distance metric seems to works best in which cases and why?"
      ]
    },
    {
      "cell_type": "markdown",
      "metadata": {},
      "source": [
        "### FInal Results"
      ]
    },
    {
      "cell_type": "markdown",
      "metadata": {},
      "source": [
        "Once you have everything “dialed in”, re-do the analysis one last time with the optimal parameter choice to get your “final results”."
      ]
    },
    {
      "cell_type": "markdown",
      "metadata": {},
      "source": [
        "## Results"
      ]
    },
    {
      "cell_type": "markdown",
      "metadata": {},
      "source": [
        "Using your “final results”, discuss, illustrate, and compare the results of your various clustering analysis methods.\n",
        "Which method seemed to work the best and why, which was easier to use or preferable, etc.\n",
        "Can you make connections between the optimal cluster predictions, after parameter tuning, with any of the labels in the data set. Do they coincide? Why or why not?\n",
        "Did the clustering results provide any new insights into your data?\n",
        "Explore the results, and create as many meaningful visualizations as you need. Be creative, and experiment with different image aesthetics.\n",
        "Ensure all visualizations are professional, ascetically pleasing, labeled, captioned, use color, are clear, and support your discussion and goals."
      ]
    },
    {
      "cell_type": "markdown",
      "metadata": {},
      "source": [
        "## Conslusions"
      ]
    },
    {
      "cell_type": "markdown",
      "metadata": {},
      "source": [
        "In this section, the goal is to summarize & wrap-up the report. It explains what was found, in a way that would make sense to a general readership.\n",
        "This area is non-technical. Technical descriptions of what you did should be in the methods or results sections, not conclusions.\n",
        "The Conclusions should focus on key and important findings and how these findings affect real-life and real people."
      ]
    },
    {
      "cell_type": "markdown",
      "metadata": {},
      "source": [
        "## References"
      ]
    },
    {
      "cell_type": "markdown",
      "metadata": {},
      "source": [
        "Reference all non-original content.\n",
        "Ideally (but optionally) use .bibtex combined with Quarto to provide in-line internal citations\n",
        "See the following link for an example:\n",
        "https://drive.google.com/open?"
      ]
    },
    {
      "cell_type": "markdown",
      "metadata": {},
      "source": []
    }
  ],
  "metadata": {
    "kernelspec": {
      "display_name": "Python 3 (ipykernel)",
      "language": "python",
      "name": "python3"
    },
    "language_info": {
      "codemirror_mode": {
        "name": "ipython",
        "version": 3
      },
      "file_extension": ".py",
      "mimetype": "text/x-python",
      "name": "python",
      "nbconvert_exporter": "python",
      "pygments_lexer": "ipython3",
      "version": "3.11.5"
    }
  },
  "nbformat": 4,
  "nbformat_minor": 4
}
