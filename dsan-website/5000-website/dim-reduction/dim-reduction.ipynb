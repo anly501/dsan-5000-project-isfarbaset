{
 "cells": [
  {
   "cell_type": "markdown",
   "metadata": {},
   "source": [
    "# Dimensionality Reduction"
   ]
  },
  {
   "cell_type": "markdown",
   "metadata": {},
   "source": [
    "The project’s objective is to explore and demonstrate the effectiveness of PCA and t-SNE in reducing the dimensionality of complex, multimodal data while preserving essential information and enhancing data visualization.\n",
    "\n",
    "This project will allow you to apply your knowledge of PCA and t-SNE to a real-world scenario and gain valuable experience in dimensionality reduction and data visualization. It’s an opportunity to showcase your skills and creativity in tackling complex data analysis challenges."
   ]
  },
  {
   "cell_type": "markdown",
   "metadata": {},
   "source": [
    "## Dimensionality Reduction with PCA"
   ]
  },
  {
   "cell_type": "markdown",
   "metadata": {},
   "source": [
    "Apply PCA to your record dataset.\n",
    "Determine the optimal number of principal components to retain.\n",
    "Visualize the reduced-dimensional data using PCA.\n",
    "Analyze and interpret the results."
   ]
  },
  {
   "cell_type": "code",
   "execution_count": 556,
   "metadata": {},
   "outputs": [],
   "source": [
    "import json\n",
    "import numpy as np\n",
    "import seaborn as sns\n",
    "import matplotlib.pyplot as plt\n",
    "import pandas as pd\n",
    "from sklearn.preprocessing import StandardScaler\n",
    "from sklearn.metrics import silhouette_samples, silhouette_score\n",
    "from sklearn.decomposition import PCA\n",
    "from numpy import linalg as LA"
   ]
  },
  {
   "cell_type": "code",
   "execution_count": 557,
   "metadata": {},
   "outputs": [
    {
     "data": {
      "text/html": [
       "<div>\n",
       "<style scoped>\n",
       "    .dataframe tbody tr th:only-of-type {\n",
       "        vertical-align: middle;\n",
       "    }\n",
       "\n",
       "    .dataframe tbody tr th {\n",
       "        vertical-align: top;\n",
       "    }\n",
       "\n",
       "    .dataframe thead th {\n",
       "        text-align: right;\n",
       "    }\n",
       "</style>\n",
       "<table border=\"1\" class=\"dataframe\">\n",
       "  <thead>\n",
       "    <tr style=\"text-align: right;\">\n",
       "      <th></th>\n",
       "      <th>Unnamed: 0</th>\n",
       "      <th>city_mpg</th>\n",
       "      <th>class</th>\n",
       "      <th>combination_mpg</th>\n",
       "      <th>cylinders</th>\n",
       "      <th>displacement</th>\n",
       "      <th>drive</th>\n",
       "      <th>fuel_type</th>\n",
       "      <th>highway_mpg</th>\n",
       "      <th>make</th>\n",
       "      <th>model</th>\n",
       "      <th>transmission</th>\n",
       "      <th>year</th>\n",
       "    </tr>\n",
       "  </thead>\n",
       "  <tbody>\n",
       "    <tr>\n",
       "      <th>0</th>\n",
       "      <td>0</td>\n",
       "      <td>18</td>\n",
       "      <td>midsize car</td>\n",
       "      <td>21</td>\n",
       "      <td>4.0</td>\n",
       "      <td>2.2</td>\n",
       "      <td>fwd</td>\n",
       "      <td>gas</td>\n",
       "      <td>26</td>\n",
       "      <td>toyota</td>\n",
       "      <td>Camry</td>\n",
       "      <td>a</td>\n",
       "      <td>1993</td>\n",
       "    </tr>\n",
       "    <tr>\n",
       "      <th>1</th>\n",
       "      <td>1</td>\n",
       "      <td>19</td>\n",
       "      <td>midsize car</td>\n",
       "      <td>22</td>\n",
       "      <td>4.0</td>\n",
       "      <td>2.2</td>\n",
       "      <td>fwd</td>\n",
       "      <td>gas</td>\n",
       "      <td>27</td>\n",
       "      <td>toyota</td>\n",
       "      <td>Camry</td>\n",
       "      <td>m</td>\n",
       "      <td>1993</td>\n",
       "    </tr>\n",
       "    <tr>\n",
       "      <th>2</th>\n",
       "      <td>2</td>\n",
       "      <td>16</td>\n",
       "      <td>midsize car</td>\n",
       "      <td>19</td>\n",
       "      <td>6.0</td>\n",
       "      <td>3.0</td>\n",
       "      <td>fwd</td>\n",
       "      <td>gas</td>\n",
       "      <td>22</td>\n",
       "      <td>toyota</td>\n",
       "      <td>Camry</td>\n",
       "      <td>a</td>\n",
       "      <td>1993</td>\n",
       "    </tr>\n",
       "    <tr>\n",
       "      <th>3</th>\n",
       "      <td>3</td>\n",
       "      <td>16</td>\n",
       "      <td>midsize car</td>\n",
       "      <td>18</td>\n",
       "      <td>6.0</td>\n",
       "      <td>3.0</td>\n",
       "      <td>fwd</td>\n",
       "      <td>gas</td>\n",
       "      <td>22</td>\n",
       "      <td>toyota</td>\n",
       "      <td>Camry</td>\n",
       "      <td>m</td>\n",
       "      <td>1993</td>\n",
       "    </tr>\n",
       "    <tr>\n",
       "      <th>4</th>\n",
       "      <td>4</td>\n",
       "      <td>18</td>\n",
       "      <td>midsize-large station wagon</td>\n",
       "      <td>21</td>\n",
       "      <td>4.0</td>\n",
       "      <td>2.2</td>\n",
       "      <td>fwd</td>\n",
       "      <td>gas</td>\n",
       "      <td>26</td>\n",
       "      <td>toyota</td>\n",
       "      <td>Camry</td>\n",
       "      <td>a</td>\n",
       "      <td>1993</td>\n",
       "    </tr>\n",
       "  </tbody>\n",
       "</table>\n",
       "</div>"
      ],
      "text/plain": [
       "   Unnamed: 0  city_mpg                        class  combination_mpg  \\\n",
       "0           0        18                  midsize car               21   \n",
       "1           1        19                  midsize car               22   \n",
       "2           2        16                  midsize car               19   \n",
       "3           3        16                  midsize car               18   \n",
       "4           4        18  midsize-large station wagon               21   \n",
       "\n",
       "   cylinders  displacement drive fuel_type  highway_mpg    make  model  \\\n",
       "0        4.0           2.2   fwd       gas           26  toyota  Camry   \n",
       "1        4.0           2.2   fwd       gas           27  toyota  Camry   \n",
       "2        6.0           3.0   fwd       gas           22  toyota  Camry   \n",
       "3        6.0           3.0   fwd       gas           22  toyota  Camry   \n",
       "4        4.0           2.2   fwd       gas           26  toyota  Camry   \n",
       "\n",
       "  transmission  year  \n",
       "0            a  1993  \n",
       "1            m  1993  \n",
       "2            a  1993  \n",
       "3            m  1993  \n",
       "4            a  1993  "
      ]
     },
     "execution_count": 557,
     "metadata": {},
     "output_type": "execute_result"
    }
   ],
   "source": [
    "record_data = pd.read_csv('../eda/cars-data.csv')\n",
    "\n",
    "record_data.head()"
   ]
  },
  {
   "cell_type": "markdown",
   "metadata": {},
   "source": [
    "## Some preliminary cleaning"
   ]
  },
  {
   "cell_type": "code",
   "execution_count": 558,
   "metadata": {},
   "outputs": [],
   "source": [
    "df = record_data.copy()"
   ]
  },
  {
   "cell_type": "code",
   "execution_count": 559,
   "metadata": {},
   "outputs": [
    {
     "name": "stdout",
     "output_type": "stream",
     "text": [
      "Unnamed: 0          0\n",
      "city_mpg            0\n",
      "class               0\n",
      "combination_mpg     0\n",
      "cylinders          25\n",
      "displacement       25\n",
      "drive               3\n",
      "fuel_type           0\n",
      "highway_mpg         0\n",
      "make                0\n",
      "model               0\n",
      "transmission        0\n",
      "year                0\n",
      "dtype: int64\n"
     ]
    }
   ],
   "source": [
    "nan_count = record_data.isna().sum()\n",
    "\n",
    "print(nan_count)"
   ]
  },
  {
   "cell_type": "code",
   "execution_count": 560,
   "metadata": {},
   "outputs": [
    {
     "name": "stdout",
     "output_type": "stream",
     "text": [
      "<class 'pandas.core.frame.DataFrame'>\n",
      "RangeIndex: 80 entries, 0 to 79\n",
      "Data columns (total 13 columns):\n",
      " #   Column           Non-Null Count  Dtype  \n",
      "---  ------           --------------  -----  \n",
      " 0   Unnamed: 0       80 non-null     int64  \n",
      " 1   city_mpg         80 non-null     int64  \n",
      " 2   class            80 non-null     object \n",
      " 3   combination_mpg  80 non-null     int64  \n",
      " 4   cylinders        55 non-null     float64\n",
      " 5   displacement     55 non-null     float64\n",
      " 6   drive            77 non-null     object \n",
      " 7   fuel_type        80 non-null     object \n",
      " 8   highway_mpg      80 non-null     int64  \n",
      " 9   make             80 non-null     object \n",
      " 10  model            80 non-null     object \n",
      " 11  transmission     80 non-null     object \n",
      " 12  year             80 non-null     int64  \n",
      "dtypes: float64(2), int64(5), object(6)\n",
      "memory usage: 8.3+ KB\n"
     ]
    }
   ],
   "source": [
    "record_data.info()"
   ]
  },
  {
   "cell_type": "code",
   "execution_count": 561,
   "metadata": {},
   "outputs": [
    {
     "name": "stdout",
     "output_type": "stream",
     "text": [
      "<class 'pandas.core.frame.DataFrame'>\n",
      "RangeIndex: 80 entries, 0 to 79\n",
      "Data columns (total 13 columns):\n",
      " #   Column           Non-Null Count  Dtype  \n",
      "---  ------           --------------  -----  \n",
      " 0   Unnamed: 0       80 non-null     int64  \n",
      " 1   city_mpg         80 non-null     int64  \n",
      " 2   class            80 non-null     string \n",
      " 3   combination_mpg  80 non-null     int64  \n",
      " 4   cylinders        55 non-null     float64\n",
      " 5   displacement     55 non-null     float64\n",
      " 6   drive            77 non-null     string \n",
      " 7   fuel_type        80 non-null     string \n",
      " 8   highway_mpg      80 non-null     int64  \n",
      " 9   make             80 non-null     string \n",
      " 10  model            80 non-null     string \n",
      " 11  transmission     80 non-null     string \n",
      " 12  year             80 non-null     int64  \n",
      "dtypes: float64(2), int64(5), string(6)\n",
      "memory usage: 8.3 KB\n"
     ]
    }
   ],
   "source": [
    "# Convert all 'object' type columns to 'string'\n",
    "for col in record_data.select_dtypes(include=['object']).columns:\n",
    "    record_data[col] = record_data[col].astype('string')\n",
    "\n",
    "# Verify the changes\n",
    "record_data.info()"
   ]
  },
  {
   "cell_type": "code",
   "execution_count": 562,
   "metadata": {},
   "outputs": [],
   "source": [
    "# # get y \n",
    "\n",
    "# y = record_data['fuel_type'].unique().tolist()\n",
    "\n",
    "# y"
   ]
  },
  {
   "cell_type": "code",
   "execution_count": 563,
   "metadata": {},
   "outputs": [],
   "source": [
    "\n",
    "# Dropping non-numerical and unnecessary columns\n",
    "record_data = record_data.drop(columns=['Unnamed: 0'])"
   ]
  },
  {
   "cell_type": "code",
   "execution_count": 564,
   "metadata": {},
   "outputs": [
    {
     "name": "stdout",
     "output_type": "stream",
     "text": [
      "city_mpg           0\n",
      "class              0\n",
      "combination_mpg    0\n",
      "cylinders          0\n",
      "displacement       0\n",
      "drive              3\n",
      "fuel_type          0\n",
      "highway_mpg        0\n",
      "make               0\n",
      "model              0\n",
      "transmission       0\n",
      "year               0\n",
      "dtype: int64\n"
     ]
    }
   ],
   "source": [
    "# Replace continuous missing values with mean of the column. check for Nan values again.\n",
    "\n",
    "cols = ['displacement', 'cylinders']\n",
    "record_data[cols] = record_data[cols].fillna(record_data[cols].mean())\n",
    "\n",
    "nan_count = record_data.isna().sum()\n",
    "print(nan_count)"
   ]
  },
  {
   "cell_type": "code",
   "execution_count": 565,
   "metadata": {},
   "outputs": [
    {
     "name": "stdout",
     "output_type": "stream",
     "text": [
      "city_mpg           0\n",
      "class              0\n",
      "combination_mpg    0\n",
      "cylinders          0\n",
      "displacement       0\n",
      "drive              0\n",
      "fuel_type          0\n",
      "highway_mpg        0\n",
      "make               0\n",
      "model              0\n",
      "transmission       0\n",
      "year               0\n",
      "dtype: int64\n"
     ]
    }
   ],
   "source": [
    "# Replace categorical missing values with mode of the column. check for Nan values again.\n",
    "\n",
    "record_data['drive'] = record_data['drive'].fillna(record_data['drive'].mode().iloc[0])\n",
    "\n",
    "nan_count = record_data.isna().sum()\n",
    "print(nan_count)"
   ]
  },
  {
   "cell_type": "code",
   "execution_count": 566,
   "metadata": {},
   "outputs": [
    {
     "data": {
      "text/html": [
       "<div>\n",
       "<style scoped>\n",
       "    .dataframe tbody tr th:only-of-type {\n",
       "        vertical-align: middle;\n",
       "    }\n",
       "\n",
       "    .dataframe tbody tr th {\n",
       "        vertical-align: top;\n",
       "    }\n",
       "\n",
       "    .dataframe thead th {\n",
       "        text-align: right;\n",
       "    }\n",
       "</style>\n",
       "<table border=\"1\" class=\"dataframe\">\n",
       "  <thead>\n",
       "    <tr style=\"text-align: right;\">\n",
       "      <th></th>\n",
       "      <th>city_mpg</th>\n",
       "      <th>class</th>\n",
       "      <th>combination_mpg</th>\n",
       "      <th>cylinders</th>\n",
       "      <th>displacement</th>\n",
       "      <th>drive</th>\n",
       "      <th>fuel_type</th>\n",
       "      <th>highway_mpg</th>\n",
       "      <th>make</th>\n",
       "      <th>model</th>\n",
       "      <th>transmission</th>\n",
       "      <th>year</th>\n",
       "    </tr>\n",
       "  </thead>\n",
       "  <tbody>\n",
       "    <tr>\n",
       "      <th>0</th>\n",
       "      <td>18</td>\n",
       "      <td>2</td>\n",
       "      <td>21</td>\n",
       "      <td>4.0</td>\n",
       "      <td>2.2</td>\n",
       "      <td>1</td>\n",
       "      <td>1</td>\n",
       "      <td>26</td>\n",
       "      <td>6</td>\n",
       "      <td>3</td>\n",
       "      <td>0</td>\n",
       "      <td>1993</td>\n",
       "    </tr>\n",
       "    <tr>\n",
       "      <th>1</th>\n",
       "      <td>19</td>\n",
       "      <td>2</td>\n",
       "      <td>22</td>\n",
       "      <td>4.0</td>\n",
       "      <td>2.2</td>\n",
       "      <td>1</td>\n",
       "      <td>1</td>\n",
       "      <td>27</td>\n",
       "      <td>6</td>\n",
       "      <td>3</td>\n",
       "      <td>1</td>\n",
       "      <td>1993</td>\n",
       "    </tr>\n",
       "    <tr>\n",
       "      <th>2</th>\n",
       "      <td>16</td>\n",
       "      <td>2</td>\n",
       "      <td>19</td>\n",
       "      <td>6.0</td>\n",
       "      <td>3.0</td>\n",
       "      <td>1</td>\n",
       "      <td>1</td>\n",
       "      <td>22</td>\n",
       "      <td>6</td>\n",
       "      <td>3</td>\n",
       "      <td>0</td>\n",
       "      <td>1993</td>\n",
       "    </tr>\n",
       "    <tr>\n",
       "      <th>3</th>\n",
       "      <td>16</td>\n",
       "      <td>2</td>\n",
       "      <td>18</td>\n",
       "      <td>6.0</td>\n",
       "      <td>3.0</td>\n",
       "      <td>1</td>\n",
       "      <td>1</td>\n",
       "      <td>22</td>\n",
       "      <td>6</td>\n",
       "      <td>3</td>\n",
       "      <td>1</td>\n",
       "      <td>1993</td>\n",
       "    </tr>\n",
       "    <tr>\n",
       "      <th>4</th>\n",
       "      <td>18</td>\n",
       "      <td>3</td>\n",
       "      <td>21</td>\n",
       "      <td>4.0</td>\n",
       "      <td>2.2</td>\n",
       "      <td>1</td>\n",
       "      <td>1</td>\n",
       "      <td>26</td>\n",
       "      <td>6</td>\n",
       "      <td>3</td>\n",
       "      <td>0</td>\n",
       "      <td>1993</td>\n",
       "    </tr>\n",
       "  </tbody>\n",
       "</table>\n",
       "</div>"
      ],
      "text/plain": [
       "   city_mpg  class  combination_mpg  cylinders  displacement  drive  \\\n",
       "0        18      2               21        4.0           2.2      1   \n",
       "1        19      2               22        4.0           2.2      1   \n",
       "2        16      2               19        6.0           3.0      1   \n",
       "3        16      2               18        6.0           3.0      1   \n",
       "4        18      3               21        4.0           2.2      1   \n",
       "\n",
       "   fuel_type  highway_mpg  make  model  transmission  year  \n",
       "0          1           26     6      3             0  1993  \n",
       "1          1           27     6      3             1  1993  \n",
       "2          1           22     6      3             0  1993  \n",
       "3          1           22     6      3             1  1993  \n",
       "4          1           26     6      3             0  1993  "
      ]
     },
     "execution_count": 566,
     "metadata": {},
     "output_type": "execute_result"
    }
   ],
   "source": [
    "# Using a for loop to replace categorical values with cat codes\n",
    "cat_cols = ['class', 'drive', 'fuel_type', 'make', 'model', 'transmission']\n",
    "for col in cat_cols:\n",
    "    record_data[col] = record_data[col].astype('category')\n",
    "    record_data[col] = record_data[col].cat.codes\n",
    "\n",
    "# Display the altered DataFrame\n",
    "record_data.head()"
   ]
  },
  {
   "cell_type": "code",
   "execution_count": 567,
   "metadata": {},
   "outputs": [],
   "source": [
    "record_data.to_csv('cardf_cleaned.csv')"
   ]
  },
  {
   "cell_type": "code",
   "execution_count": 568,
   "metadata": {},
   "outputs": [],
   "source": [
    "# Split the dataset in X and y. since this is unsupervised learning, we will not use the y labels. you can choose to normalize the X data by using the StandardScaler function.\n",
    "\n",
    "x_cols = ['city_mpg', 'class', 'combination_mpg', 'cylinders', 'displacement', 'drive', 'fuel_type', 'highway_mpg', 'make', 'model', 'transmission', 'year' ]\n",
    "# y_cols = ['fuel_type']\n",
    "\n",
    "X = record_data[x_cols]  #'fuel_type' is the column we want to predict.\n",
    "# y = record_data[y_cols]\n",
    "\n",
    "\n",
    "X = StandardScaler().fit_transform(X)"
   ]
  },
  {
   "cell_type": "code",
   "execution_count": 569,
   "metadata": {},
   "outputs": [],
   "source": [
    "# # Apply PCA with all components to examine the explained variance ratio\n",
    "# pca_full = PCA()\n",
    "# X_pca_full = pca_full.fit_transform(X)\n",
    "\n",
    "# # Calculate the cumulative explained variance ratio\n",
    "# variance = np.cumsum(pca_full.explained_variance_ratio_)\n",
    "\n",
    "# # Display the cumulative explained variance ratio\n",
    "# variance"
   ]
  },
  {
   "cell_type": "code",
   "execution_count": 574,
   "metadata": {},
   "outputs": [
    {
     "data": {
      "image/png": "[encoded data removed]",
      "text/plain": [
       "<Figure size 1000x600 with 1 Axes>"
      ]
     },
     "metadata": {},
     "output_type": "display_data"
    },
    {
     "data": {
      "text/plain": [
       "array([0.43044927, 0.62710696, 0.7365747 , 0.81135959, 0.87924668,\n",
       "       0.9445061 , 0.98243748, 0.99178112, 0.99604319, 0.99954389,\n",
       "       0.99999368, 1.        ])"
      ]
     },
     "execution_count": 574,
     "metadata": {},
     "output_type": "execute_result"
    }
   ],
   "source": [
    "# Standardizing the data\n",
    "scaled_data = StandardScaler().fit_transform(X)\n",
    "\n",
    "# Applying PCA\n",
    "pca = PCA()\n",
    "pca.fit(scaled_data)\n",
    "\n",
    "# Explained variance ratio\n",
    "explained_variance = pca.explained_variance_ratio_\n",
    "\n",
    "# Plotting the cumulative explained variance to determine the optimal number of components\n",
    "plt.figure(figsize=(10, 6))\n",
    "plt.plot(np.cumsum(explained_variance))\n",
    "plt.xlabel('Number of Components')\n",
    "plt.ylabel('Cumulative Explained Variance')\n",
    "plt.title('Explained Variance by Different Principal Components')\n",
    "plt.grid(True)\n",
    "plt.show()\n",
    "\n",
    "# Returning the explained variance to aid in interpretation\n",
    "explained_variance.cumsum()\n",
    "\n",
    "# Create a DataFrame with the PCA results for easier visualization\n",
    "pca_columns = ['PC' + str(i+1) for i in range(12)]\n",
    "pca_df = pd.DataFrame(scaled_data, columns=pca_columns)\n",
    "\n",
    "\n",
    "# Show the DataFrame with PCA components\n",
    "pca_df.head()\n",
    "\n",
    "# Returning the cumulative explained variance for interpretation\n",
    "explained_variance.cumsum()\n"
   ]
  },
  {
   "cell_type": "code",
   "execution_count": 571,
   "metadata": {},
   "outputs": [
    {
     "data": {
      "image/png": "[encoded data removed]",
      "text/plain": [
       "<Figure size 1000x600 with 1 Axes>"
      ]
     },
     "metadata": {},
     "output_type": "display_data"
    }
   ],
   "source": [
    "# Applying PCA with the optimal number of components (2 components for visualization)\n",
    "pca_optimal = PCA(n_components=2)\n",
    "reduced_data = pca_optimal.fit_transform(X)\n",
    "\n",
    "# Visualizing the reduced-dimensional data\n",
    "plt.figure(figsize=(10, 6))\n",
    "plt.scatter(reduced_data[:, 0], reduced_data[:, 1])\n",
    "plt.xlabel('Principal Component 1')\n",
    "plt.ylabel('Principal Component 2')\n",
    "plt.title('PCA - Reduced Dimensional Data Visualization')\n",
    "plt.grid(True)\n",
    "plt.show()\n"
   ]
  },
  {
   "cell_type": "markdown",
   "metadata": {},
   "source": [
    "We were able to reduce the feature space from 11 components to 7 components by using PCA"
   ]
  },
  {
   "cell_type": "markdown",
   "metadata": {},
   "source": [
    "From the graph there appears to be a distinct grouping of fuel types along the first two principal components. The plot shows two clusters with different fuel types, which suggests that PCA has found a linear combination of the original variables that helps to distinguish between these two fuel types."
   ]
  },
  {
   "cell_type": "markdown",
   "metadata": {},
   "source": [
    "## Dimensionality Reduction with t-SNE"
   ]
  },
  {
   "cell_type": "markdown",
   "metadata": {},
   "source": [
    "Implement t-SNE on the same dataset.\n",
    "Explore different perplexity values and their impact.\n",
    "Visualize the t-SNE output to reveal patterns and clusters.\n",
    "Compare t-SNE results with PCA results."
   ]
  },
  {
   "cell_type": "code",
   "execution_count": 572,
   "metadata": {},
   "outputs": [
    {
     "name": "stdout",
     "output_type": "stream",
     "text": [
      "(80, 12)\n"
     ]
    },
    {
     "name": "stdout",
     "output_type": "stream",
     "text": [
      "RESULTS\n",
      "shape :  (80, 2)\n",
      "First few points : \n",
      " [[4.0756    3.675461 ]\n",
      " [4.41992   3.7224758]]\n"
     ]
    },
    {
     "data": {
      "text/plain": [
       "<matplotlib.collections.PathCollection at 0x288730e50>"
      ]
     },
     "execution_count": 572,
     "metadata": {},
     "output_type": "execute_result"
    },
    {
     "data": {
      "image/png": "[encoded data removed]",
      "text/plain": [
       "<Figure size 640x480 with 1 Axes>"
      ]
     },
     "metadata": {},
     "output_type": "display_data"
    }
   ],
   "source": [
    "from sklearn.manifold import TSNE\n",
    "\n",
    "X = record_data\n",
    "print(X.shape)\n",
    "\n",
    "# DO DIMENSIONALITY REDUCTION\n",
    "X_embedded = TSNE(n_components=2, learning_rate='auto',init='random', perplexity=30).fit_transform(X)\n",
    "\n",
    "# EXPLORE RESULTS\n",
    "print(\"RESULTS\") \n",
    "print(\"shape : \",X_embedded.shape)\n",
    "print(\"First few points : \\n\",X_embedded[0:2,:])\n",
    "\n",
    "# PLOT \n",
    "plt.scatter(X_embedded[:,0],X_embedded[:,1], alpha=0.5)"
   ]
  },
  {
   "cell_type": "markdown",
   "metadata": {},
   "source": [
    "The t-SNE algorithm has successfully reduced the dimensionality of the data and the resulting plot shows the data in two dimensions.\n",
    "Based on the plot, we can infer that the dataset has some intrinsic clusters or groupings, which could be further analyzed for patterns or similarities."
   ]
  },
  {
   "cell_type": "markdown",
   "metadata": {},
   "source": [
    "## Evaluation and Comparison"
   ]
  },
  {
   "cell_type": "markdown",
   "metadata": {},
   "source": [
    "Evaluate the effectiveness of PCA and t-SNE in terms of preserving data structure and information.\n",
    "Compare the visualization capabilities of PCA and t-SNE.\n",
    "Discuss the trade-offs and scenarios where one technique may outperform the other."
   ]
  },
  {
   "cell_type": "markdown",
   "metadata": {},
   "source": [
    "## Project Proposal"
   ]
  },
  {
   "cell_type": "markdown",
   "metadata": {},
   "source": [
    "A brief proposal outlining your project’s objectives, dataset selection, and the tools or libraries you plan to use (e.g., Python, scikit-learn)."
   ]
  },
  {
   "cell_type": "markdown",
   "metadata": {},
   "source": [
    "## Code Implementation"
   ]
  },
  {
   "cell_type": "markdown",
   "metadata": {},
   "source": [
    "Python code for implementing PCA and t-SNE on the selected dataset.\n",
    "Code should include parameter tuning for t-SNE (perplexity) and visualization of the results."
   ]
  },
  {
   "cell_type": "markdown",
   "metadata": {},
   "source": [
    "## Project Report"
   ]
  },
  {
   "cell_type": "markdown",
   "metadata": {},
   "source": [
    "A comprehensive project report detailing the steps taken, results obtained, and your analysis.\n",
    "Include visualizations, comparisons, and insights gained from the dimensionality reduction techniques."
   ]
  }
 ],
 "metadata": {
  "kernelspec": {
   "display_name": "base",
   "language": "python",
   "name": "python3"
  },
  "language_info": {
   "codemirror_mode": {
    "name": "ipython",
    "version": 3
   },
   "file_extension": ".py",
   "mimetype": "text/x-python",
   "name": "python",
   "nbconvert_exporter": "python",
   "pygments_lexer": "ipython3",
   "version": "3.11.5"
  },
  "orig_nbformat": 4
 },
 "nbformat": 4,
 "nbformat_minor": 2
}
