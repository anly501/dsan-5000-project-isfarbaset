{
  "cells": [
    {
      "cell_type": "raw",
      "metadata": {},
      "source": [
        "---\n",
        "title: Data Cleaning\n",
        "---"
      ],
      "id": "7bad2043"
    },
    {
      "cell_type": "markdown",
      "metadata": {},
      "source": [
        "#### Code reference for this section is from:\n",
        "* https://jfh.georgetown.domains/dsan5000/slides-and-labs/_site/content/labs/code-demos/API-wikipedia/wikipedia-api.html\n",
        "* https://jfh.georgetown.domains/dsan5000/slides-and-labs/_site/content/labs/code-demos/API-newapi/news-api.html\n"
      ],
      "id": "bc09b3b6"
    },
    {
      "cell_type": "code",
      "metadata": {},
      "source": [
        "API_KEY='481b1e4a75874d2f9a23e3329031364c'"
      ],
      "id": "67cdfced",
      "execution_count": null,
      "outputs": []
    },
    {
      "cell_type": "code",
      "metadata": {},
      "source": [
        "import requests\n",
        "import json\n",
        "import re\n",
        "import pandas as pd\n",
        "from sklearn.feature_extraction.text import CountVectorizer"
      ],
      "id": "06746040",
      "execution_count": null,
      "outputs": []
    },
    {
      "cell_type": "markdown",
      "metadata": {},
      "source": [
        "### Topic 1: Electric Vehicles\n"
      ],
      "id": "49144484"
    },
    {
      "cell_type": "code",
      "metadata": {},
      "source": [
        "baseURL = \"https://newsapi.org/v2/everything?\"\n",
        "total_requests=2\n",
        "verbose=True\n",
        "\n",
        "# THIS CODE WILL NOT WORK UNLESS YOU INSERT YOUR API KEY IN THE NEXT LINE\n",
        "API_KEY='481b1e4a75874d2f9a23e3329031364c'\n",
        "TOPIC1='electric vehicles'"
      ],
      "id": "f200d2e0",
      "execution_count": null,
      "outputs": []
    },
    {
      "cell_type": "code",
      "metadata": {},
      "source": [
        "URLpost = {'apiKey': API_KEY,\n",
        "            'q': '+'+TOPIC1,\n",
        "            'sortBy': 'relevancy',\n",
        "            'totalRequests': 1}\n",
        "\n",
        "print(baseURL)\n",
        "# print(URLpost)\n",
        "\n",
        "#GET DATA FROM API\n",
        "response = requests.get(baseURL, URLpost) #request data from the server\n",
        "# print(response.url);  \n",
        "response = response.json() #extract txt data from request into json\n",
        "\n",
        "# PRETTY PRINT\n",
        "# https://www.digitalocean.com/community/tutorials/python-pretty-print-json\n",
        "\n",
        "print(json.dumps(response, indent=2))\n",
        "\n",
        "# #GET TIMESTAMP FOR PULL REQUEST\n",
        "from datetime import datetime\n",
        "timestamp = datetime.now().strftime(\"%Y-%m-%d-H%H-M%M-S%S\")\n",
        "\n",
        "# SAVE TO FILE \n",
        "with open(timestamp+'-newapi-raw-data.json', 'w') as outfile:\n",
        "    json.dump(response, outfile, indent=4)"
      ],
      "id": "548da67f",
      "execution_count": null,
      "outputs": []
    },
    {
      "cell_type": "code",
      "metadata": {},
      "source": [
        "def string_cleaner(input_string):\n",
        "    try: \n",
        "        out=re.sub(r\"\"\"\n",
        "                    [,.;@#?!&$-]+  # Accept one or more copies of punctuation\n",
        "                    \\ *           # plus zero or more copies of a space,\n",
        "                    \"\"\",\n",
        "                    \" \",          # and replace it with a single space\n",
        "                    input_string, flags=re.VERBOSE)\n",
        "\n",
        "        #REPLACE SELECT CHARACTERS WITH NOTHING\n",
        "        out = re.sub('[’.]+', '', input_string)\n",
        "\n",
        "        #ELIMINATE DUPLICATE WHITESPACES USING WILDCARDS\n",
        "        out = re.sub(r'\\s+', ' ', out)\n",
        "\n",
        "        #CONVERT TO LOWER CASE\n",
        "        out=out.lower()\n",
        "    except:\n",
        "        print(\"ERROR\")\n",
        "        out=''\n",
        "    return out"
      ],
      "id": "2ccd74b8",
      "execution_count": null,
      "outputs": []
    },
    {
      "cell_type": "code",
      "metadata": {},
      "source": [
        "article_list=response['articles']   #list of dictionaries for each article\n",
        "article_keys=article_list[0].keys()\n",
        "print(\"AVAILABLE KEYS:\")\n",
        "print(article_keys)\n",
        "index=0\n",
        "electric_vehicle_cleaned_data=[];  \n",
        "for article in article_list:\n",
        "    tmp=[]\n",
        "    if(verbose):\n",
        "        print(\"#------------------------------------------\")\n",
        "        print(\"#\",index)\n",
        "        print(\"#------------------------------------------\")\n",
        "\n",
        "    for key in article_keys:\n",
        "        if(verbose):\n",
        "            print(\"----------------\")\n",
        "            print(key)\n",
        "            print(article[key])\n",
        "            print(\"----------------\")\n",
        "\n",
        "        if(key=='source'):\n",
        "            src=string_cleaner(article[key]['name'])\n",
        "            tmp.append(src) \n",
        "\n",
        "        if(key=='author'):\n",
        "            author=string_cleaner(article[key])\n",
        "            #ERROR CHECK (SOMETIMES AUTHOR IS SAME AS PUBLICATION)\n",
        "            if(src in author): \n",
        "                print(\" AUTHOR ERROR:\",author);author='NA'\n",
        "            tmp.append(author)\n",
        "\n",
        "        if(key=='title'):\n",
        "            tmp.append(string_cleaner(article[key]))\n",
        "\n",
        "        # if(key=='description'):\n",
        "        #     tmp.append(string_cleaner(article[key]))\n",
        "\n",
        "        # if(key=='content'):\n",
        "        #     tmp.append(string_cleaner(article[key]))\n",
        "\n",
        "        if(key=='publishedAt'):\n",
        "            #DEFINE DATA PATERN FOR RE TO CHECK  .* --> wildcard\n",
        "            ref = re.compile('.*-.*-.*T.*:.*:.*Z')\n",
        "            date=article[key]\n",
        "            if(not ref.match(date)):\n",
        "                print(\" DATE ERROR:\",date); date=\"NA\"\n",
        "            tmp.append(date)\n",
        "\n",
        "    electric_vehicle_cleaned_data.append(tmp)\n",
        "    index+=1"
      ],
      "id": "86de610a",
      "execution_count": null,
      "outputs": []
    },
    {
      "cell_type": "code",
      "metadata": {},
      "source": [
        "df = pd.DataFrame(sunflower_cleaned_data)\n",
        "print(df)\n",
        "df.to_csv('electric_vehicle_cleaned.csv', index=False) \n",
        "# index_label=['title','src','author','date','description']"
      ],
      "id": "3777e9fb",
      "execution_count": null,
      "outputs": []
    },
    {
      "cell_type": "code",
      "metadata": {},
      "source": [
        "electric_vehicle_df = pd.read_csv(\"electric_vehicle_cleaned.csv\")\n",
        "rename_map = {\n",
        "    '0': 'title',\n",
        "    '2': 'description'\n",
        "}\n",
        "\n",
        "electric_vehicle_df.rename(columns=rename_map, inplace=True)"
      ],
      "id": "59983a4b",
      "execution_count": null,
      "outputs": []
    },
    {
      "cell_type": "code",
      "metadata": {},
      "source": [
        "cols_to_keep = rename_map.values()\n",
        "electric_vehicle_df = electric_vehicle_df[cols_to_keep]"
      ],
      "id": "53062d4d",
      "execution_count": null,
      "outputs": []
    },
    {
      "cell_type": "code",
      "metadata": {},
      "source": [
        "electric_vehicle_df"
      ],
      "id": "ec9e04ca",
      "execution_count": null,
      "outputs": []
    },
    {
      "cell_type": "code",
      "metadata": {},
      "source": [
        "import wikipedia"
      ],
      "id": "6db6aa85",
      "execution_count": null,
      "outputs": []
    },
    {
      "cell_type": "code",
      "metadata": {},
      "source": [
        "ev_text = str(electric_vehicle_df[\"description\"])"
      ],
      "id": "bc1bab13",
      "execution_count": null,
      "outputs": []
    },
    {
      "cell_type": "code",
      "metadata": {},
      "source": [
        "print(ev_text)"
      ],
      "id": "05709945",
      "execution_count": null,
      "outputs": []
    },
    {
      "cell_type": "code",
      "metadata": {},
      "source": [
        "# MODIFIED FROM \n",
        "# https://towardsdatascience.com/simple-wordcloud-in-python-2ae54a9f58e5\n",
        "def generate_word_cloud(my_text):\n",
        "    from wordcloud import WordCloud, STOPWORDS\n",
        "    import matplotlib.pyplot as plt\n",
        "    # exit()\n",
        "    # Import package\n",
        "    # Define a function to plot word cloud\n",
        "    def plot_cloud(wordcloud):\n",
        "        # Set figure size\n",
        "        plt.figure(figsize=(40, 30))\n",
        "        # Display image\n",
        "        plt.imshow(wordcloud) \n",
        "        # No axis details\n",
        "        plt.axis(\"off\");\n",
        "\n",
        "    # Generate word cloud\n",
        "    wordcloud = WordCloud(\n",
        "        width = 3000,\n",
        "        height = 2000, \n",
        "        random_state=1, \n",
        "        background_color='salmon', \n",
        "        colormap='Pastel1', \n",
        "        collocations=False,\n",
        "        stopwords = STOPWORDS).generate(my_text)\n",
        "    plot_cloud(wordcloud)\n",
        "    plt.show()\n",
        "\n",
        "# text='The field of machine learning is typically divided into three fundamental sub-paradigms. These include supervised learning, unsupervised learning, and reinforcement learning (RL). The discipline of reinforcement learning focuses on how intelligent agents learn to perform actions, inside a specified environment, to maximize  a cumulative reward function. Over the past several decades, there has been a push to incorporate concepts from the field of deep-learning into the agents used in RL algorithms. This has spawned the field of Deep reinforcement learning. To date, the field of deep RL has yielded stunning results in a wide range of technological applications. These include, but are not limited to, self-driving cars, autonomous game play, robotics, trading and finance, and Natural Language Processing. This course will begin with an introduction to the fundamentals of traditional, i.e. non-deep, reinforcement learning. After reviewing fundamental deep learning topics the course will transition to deep RL by incorporating artificial neural networks into the models. Topics include Markov Decision Processes, Multi-armed Bandits, Monte Carlo Methods, Temporal Difference Learning, Function Approximation, Deep Neural Networks, Actor-Critic, Deep Q-Learning, Policy Gradient Methods, and connections to Psychology and to Neuroscience.'\n",
        "generate_word_cloud(ev_text)"
      ],
      "id": "7cdf8f06",
      "execution_count": null,
      "outputs": []
    },
    {
      "cell_type": "code",
      "metadata": {},
      "source": [
        "# Code source: https://www.programiz.com/python-programming/json\n",
        "\n",
        "import json\n",
        "\n",
        "with open('output.json', 'r') as f:\n",
        "  data = json.load(f)\n",
        "\n",
        "str_json = json.dumps(data)\n",
        "\n",
        "# Getting dictionary\n",
        "json_dict = json.loads(str_json)\n",
        "\n",
        "# Pretty Printing JSON string back\n",
        "data_output = json.dumps(json_dict, indent = 4, sort_keys=True)\n",
        "print(data_output)\n",
        "\n",
        "import pandas as pd\n",
        "\n",
        "data_subset = {\n",
        "    \"2020 Census Tract\": 53061042003,\n",
        "    \"Base MSRP\": 0,\n",
        "    \"City\": \"Edmonds\",\n",
        "    \"Clean Alternative Fuel Vehicle (CAFV) Eligibility\": \"Clean Alternative Fuel Vehicle Eligible\",\n",
        "    \"County\": \"Snohomish\",\n",
        "    \"DOL Vehicle ID\": 167322298,\n",
        "    \"Electric Range\": 124,\n",
        "    \"Electric Utility\": \"PUGET SOUND ENERGY INC\",\n",
        "    \"Electric Vehicle Type\": \"Battery Electric Vehicle (BEV)\",\n",
        "    \"Legislative District\": 21,\n",
        "    \"Make\": \"HYUNDAI\",\n",
        "    \"Model\": \"IONIQ\",\n",
        "    \"Model Year\": 2019,\n",
        "    \"Postal Code\": 98026,\n",
        "    \"State\": \"WA\",\n",
        "    \"VIN (1-10)\": \"KMHC05LH6K\",\n",
        "    \"Vehicle Location\": \"POINT (-122.33568499999996 47.803720000000055)\",\n",
        "    \"_id\": \"64b8150c3f35c83376286f52\"\n",
        "}\n",
        "\n",
        "# Create a Pandas DataFrame from the provided JSON data\n",
        "df = pd.json_normalize(data)\n",
        "\n",
        "df.rename(columns=lambda x: x.strip(), inplace=True)\n",
        "df=df.rename(columns = {'_id':'id'})\n",
        "\n",
        "# Print the DataFrame\n",
        "display(df)"
      ],
      "id": "fe7fd7cc",
      "execution_count": null,
      "outputs": []
    }
  ],
  "metadata": {
    "kernelspec": {
      "name": "python3",
      "language": "python",
      "display_name": "Python 3 (ipykernel)"
    }
  },
  "nbformat": 4,
  "nbformat_minor": 5
}